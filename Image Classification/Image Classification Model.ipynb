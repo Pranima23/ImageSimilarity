{
 "cells": [
  {
   "cell_type": "code",
   "execution_count": 23,
   "id": "c4c3d7ad",
   "metadata": {},
   "outputs": [
    {
     "name": "stdout",
     "output_type": "stream",
     "text": [
      "['alienset', 'butterfly', 'cat', 'chicken', 'cow', 'dog', 'elephant', 'horse', 'sheep', 'spider', 'squirrel']\n",
      "0\n"
     ]
    }
   ],
   "source": [
    "# import os\n",
    "# # Get all the paths\n",
    "# data_dir_list=os.listdir('./dataset')\n",
    "# print(data_dir_list)\n",
    "# path,dirs,files=next(os.walk('./dataset'))\n",
    "# file_count=len(files)\n",
    "# print(file_count)"
   ]
  },
  {
   "cell_type": "code",
   "execution_count": 24,
   "id": "2176290b",
   "metadata": {},
   "outputs": [],
   "source": [
    "# # Make new base directory\n",
    "# original_dataset_dir=\"./dataset\"\n",
    "# base_dir=\"./animal-data\"\n",
    "# os.mkdir(base_dir)"
   ]
  },
  {
   "cell_type": "code",
   "execution_count": 25,
   "id": "45e904cf",
   "metadata": {},
   "outputs": [],
   "source": [
    "# # Create two folders(train and validation)\n",
    "# train_dir=os.path.join(base_dir, 'train')\n",
    "# os.mkdir(train_dir)\n",
    "\n",
    "# validation_dir=os.path.join(base_dir,'validation')\n",
    "# os.mkdir(validation_dir)\n",
    "\n",
    "# # Under train folder create 10 folders accordinf to animal name\n",
    "\n",
    "# train_butterfly_dir=os.path.join(train_dir, 'butterfly')\n",
    "# os.mkdir(train_butterfly_dir)\n",
    "\n",
    "# train_cat_dir=os.path.join(train_dir, 'cat')\n",
    "# os.mkdir(train_cat_dir)\n",
    "\n",
    "# train_chicken_dir=os.path.join(train_dir, 'chicken')\n",
    "# os.mkdir(train_chicken_dir)\n",
    "\n",
    "# train_cow_dir=os.path.join(train_dir, 'cow')\n",
    "# os.mkdir(train_cow_dir)\n",
    "\n",
    "# train_dog_dir=os.path.join(train_dir, 'dog')\n",
    "# os.mkdir(train_dog_dir)\n",
    "\n",
    "# train_horse_dir=os.path.join(train_dir, 'horse')\n",
    "# os.mkdir(train_horse_dir)\n",
    "\n",
    "# train_sheep_dir=os.path.join(train_dir, 'sheep')\n",
    "# os.mkdir(train_sheep_dir)\n",
    "\n",
    "# train_spider_dir=os.path.join(train_dir, 'spider')\n",
    "# os.mkdir(train_spider_dir)\n",
    "\n",
    "# train_squirrel_dir=os.path.join(train_dir, 'squirrel')\n",
    "# os.mkdir(train_squirrel_dir)\n",
    "\n",
    "# train_elephant_dir=os.path.join(train_dir, 'elephant')\n",
    "# os.mkdir(train_elephant_dir)"
   ]
  },
  {
   "cell_type": "code",
   "execution_count": 26,
   "id": "99d36544",
   "metadata": {},
   "outputs": [],
   "source": [
    "# Under validation folder create 10 folders accordinf to animal name\n",
    "\n",
    "# validation_butterfly_dir=os.path.join(validation_dir, 'butterfly')\n",
    "# os.mkdir(validation_butterfly_dir)\n",
    "\n",
    "# validation_cat_dir=os.path.join(validation_dir, 'cat')\n",
    "# os.mkdir(validation_cat_dir)\n",
    "\n",
    "# validation_chicken_dir=os.path.join(validation_dir, 'chicken')\n",
    "# os.mkdir(validation_chicken_dir)\n",
    "\n",
    "# validation_cow_dir=os.path.join(validation_dir, 'cow')\n",
    "# os.mkdir(validation_cow_dir)\n",
    "\n",
    "# validation_dog_dir=os.path.join(validation_dir, 'dog')\n",
    "# os.mkdir(validation_dog_dir)\n",
    "\n",
    "# validation_horse_dir=os.path.join(validation_dir, 'horse')\n",
    "# os.mkdir(validation_horse_dir)\n",
    "\n",
    "# validation_sheep_dir=os.path.join(validation_dir, 'sheep')\n",
    "# os.mkdir(validation_sheep_dir)\n",
    "\n",
    "# validation_spider_dir=os.path.join(validation_dir, 'spider')\n",
    "# os.mkdir(validation_spider_dir)\n",
    "\n",
    "# validation_squirrel_dir=os.path.join(validation_dir, 'squirrel')\n",
    "# os.mkdir(validation_squirrel_dir)\n",
    "\n",
    "# validation_elephant_dir=os.path.join(validation_dir, 'elephant')\n",
    "# os.mkdir(validation_elephant_dir)"
   ]
  },
  {
   "cell_type": "code",
   "execution_count": 27,
   "id": "838c9b97",
   "metadata": {},
   "outputs": [],
   "source": [
    "def split_data(SOURCE, TRAINING, VALIDATION, SPLIT_SIZE):\n",
    "    files=[]\n",
    "    for filename in os.listdir(SOURCE):\n",
    "        file=SOURCE + filename\n",
    "        if os.path.getsize(file)>0:\n",
    "            files.append(filename)\n",
    "        else:\n",
    "            print(filename+ \"is zero length, so ignoring\")\n",
    "    \n",
    "    training_length= int(len(files)*SPLIT_SIZE)\n",
    "    valid_length=int(len(files)-training_length)\n",
    "    shuffled_set=random.sample(files,len(files))\n",
    "    training_set=shuffled_set[0: training_length]\n",
    "    valid_set=shuffled_set[training_length: ]\n",
    "    \n",
    "    for filename in training_set:\n",
    "        this_file=SOURCE+filename\n",
    "        destination=TRAINING +filename\n",
    "        copyfile(this_file, destination)\n",
    "        \n",
    "    for filename in valid_set:\n",
    "        this_file=SOURCE+filename\n",
    "        destination=VALIDATION +filename\n",
    "        copyfile(this_file, destination)"
   ]
  },
  {
   "cell_type": "code",
   "execution_count": 30,
   "id": "da881b5c",
   "metadata": {},
   "outputs": [],
   "source": [
    "# BUTTERFLY_SOURCE_DIR='./dataset/butterfly/'\n",
    "# TRAINING_BUTTERFLY_DIR='./animal-data/train/butterfly/'\n",
    "# VALID_BUTTERFLY_DIR='./animal-data/validation/butterfly/'\n",
    "\n",
    "# CAT_SOURCE_DIR='./dataset/cat/'\n",
    "# TRAINING_CAT_DIR='./animal-data/train/cat/'\n",
    "# VALID_CAT_DIR='./animal-data/validation/cat/'\n",
    "\n",
    "# CHICKEN_SOURCE_DIR='./dataset/chicken/'\n",
    "# TRAINING_CHICKEN_DIR='./animal-data/train/chicken/'\n",
    "# VALID_CHICKEN_DIR='./animal-data/validation/chicken/'\n",
    "\n",
    "# COW_SOURCE_DIR='./dataset/cow/'\n",
    "# TRAINING_COW_DIR='./animal-data/train/cow/'\n",
    "# VALID_COW_DIR='./animal-data/validation/cow/'\n",
    "\n",
    "# DOG_SOURCE_DIR='./dataset/dog/'\n",
    "# TRAINING_DOG_DIR='./animal-data/train/dog/'\n",
    "# VALID_DOG_DIR='./animal-data/validation/dog/'\n",
    "\n",
    "# ELEPHANT_SOURCE_DIR='./dataset/elephant/'\n",
    "# TRAINING_ELEPHANT_DIR='./animal-data/train/elephant/'\n",
    "# VALID_ELEPHANT_DIR='./animal-data/validation/elephant/'\n",
    "\n",
    "# HORSE_SOURCE_DIR='./dataset/horse/'\n",
    "# TRAINING_HORSE_DIR='./animal-data/train/horse/'\n",
    "# VALID_HORSE_DIR='./animal-data/validation/horse/'\n",
    "\n",
    "# SHEEP_SOURCE_DIR='./dataset/sheep/'\n",
    "# TRAINING_SHEEP_DIR='./animal-data/train/sheep/'\n",
    "# VALID_SHEEP_DIR='./animal-data/validation/sheep/'\n",
    "\n",
    "# SPIDER_SOURCE_DIR='./dataset/spider/'\n",
    "# TRAINING_SPIDER_DIR='./animal-data/train/spider/'\n",
    "# VALID_SPIDER_DIR='./animal-data/validation/spider/'\n",
    "\n",
    "# SQUIRREL_SOURCE_DIR='./dataset/squirrel/'\n",
    "# TRAINING_SQUIRREL_DIR='./animal-data/train/squirrel/'\n",
    "# VALID_SQUIRREL_DIR='./animal-data/validation/squirrel/'"
   ]
  },
  {
   "cell_type": "code",
   "execution_count": 8,
   "id": "f1aaf0ba",
   "metadata": {},
   "outputs": [
    {
     "ename": "NameError",
     "evalue": "name 'split_data' is not defined",
     "output_type": "error",
     "traceback": [
      "\u001b[1;31m---------------------------------------------------------------------------\u001b[0m",
      "\u001b[1;31mNameError\u001b[0m                                 Traceback (most recent call last)",
      "\u001b[1;32m~\\AppData\\Local\\Temp/ipykernel_16272/3772569708.py\u001b[0m in \u001b[0;36m<module>\u001b[1;34m\u001b[0m\n\u001b[0;32m      5\u001b[0m \u001b[0msplit_size\u001b[0m\u001b[1;33m=\u001b[0m\u001b[1;36m.85\u001b[0m\u001b[1;33m\u001b[0m\u001b[1;33m\u001b[0m\u001b[0m\n\u001b[0;32m      6\u001b[0m \u001b[1;33m\u001b[0m\u001b[0m\n\u001b[1;32m----> 7\u001b[1;33m \u001b[0msplit_data\u001b[0m\u001b[1;33m(\u001b[0m\u001b[0mBUTTERFLY_SOURCE_DIR\u001b[0m\u001b[1;33m,\u001b[0m \u001b[0mTRAINING_BUTTERFLY_DIR\u001b[0m\u001b[1;33m,\u001b[0m \u001b[0mVALID_BUTTERFLY_DIR\u001b[0m\u001b[1;33m,\u001b[0m \u001b[0msplit_size\u001b[0m\u001b[1;33m)\u001b[0m\u001b[1;33m\u001b[0m\u001b[1;33m\u001b[0m\u001b[0m\n\u001b[0m\u001b[0;32m      8\u001b[0m \u001b[0msplit_data\u001b[0m\u001b[1;33m(\u001b[0m\u001b[0mCAT_SOURCE_DIR\u001b[0m\u001b[1;33m,\u001b[0m \u001b[0mTRAINING_CAT_DIR\u001b[0m\u001b[1;33m,\u001b[0m \u001b[0mVALID_CAT_DIR\u001b[0m\u001b[1;33m,\u001b[0m \u001b[0msplit_size\u001b[0m\u001b[1;33m)\u001b[0m\u001b[1;33m\u001b[0m\u001b[1;33m\u001b[0m\u001b[0m\n\u001b[0;32m      9\u001b[0m \u001b[0msplit_data\u001b[0m\u001b[1;33m(\u001b[0m\u001b[0mCHICKEN_SOURCE_DIR\u001b[0m\u001b[1;33m,\u001b[0m \u001b[0mTRAINING_CHICKEN_DIR\u001b[0m\u001b[1;33m,\u001b[0m \u001b[0mVALID_CHICKEN_DIR\u001b[0m\u001b[1;33m,\u001b[0m \u001b[0msplit_size\u001b[0m\u001b[1;33m)\u001b[0m\u001b[1;33m\u001b[0m\u001b[1;33m\u001b[0m\u001b[0m\n",
      "\u001b[1;31mNameError\u001b[0m: name 'split_data' is not defined"
     ]
    }
   ],
   "source": [
    "import os\n",
    "import random\n",
    "from shutil import copyfile\n",
    "\n",
    "split_size=.85\n",
    "\n",
    "split_data(BUTTERFLY_SOURCE_DIR, TRAINING_BUTTERFLY_DIR, VALID_BUTTERFLY_DIR, split_size)\n",
    "split_data(CAT_SOURCE_DIR, TRAINING_CAT_DIR, VALID_CAT_DIR, split_size)\n",
    "split_data(CHICKEN_SOURCE_DIR, TRAINING_CHICKEN_DIR, VALID_CHICKEN_DIR, split_size)\n",
    "split_data(COW_SOURCE_DIR, TRAINING_COW_DIR, VALID_COW_DIR, split_size)\n",
    "split_data(DOG_SOURCE_DIR, TRAINING_DOG_DIR, VALID_DOG_DIR, split_size)\n",
    "split_data(ELEPHANT_SOURCE_DIR, TRAINING_ELEPHANT_DIR, VALID_ELEPHANT_DIR, split_size)\n",
    "split_data(HORSE_SOURCE_DIR, TRAINING_HORSE_DIR, VALID_HORSE_DIR, split_size)\n",
    "split_data(SHEEP_SOURCE_DIR, TRAINING_SHEEP_DIR, VALID_SHEEP_DIR, split_size)\n",
    "split_data(SPIDER_SOURCE_DIR, TRAINING_SPIDER_DIR, VALID_SPIDER_DIR, split_size)\n",
    "split_data(SQUIRREL_SOURCE_DIR, TRAINING_SQUIRREL_DIR, VALID_SQUIRREL_DIR, split_size)"
   ]
  },
  {
   "cell_type": "code",
   "execution_count": 9,
   "id": "77a674de",
   "metadata": {},
   "outputs": [
    {
     "data": {
      "image/png": "[encoded data removed]",
      "text/plain": [
       "<Figure size 648x432 with 1 Axes>"
      ]
     },
     "metadata": {
      "needs_background": "light"
     },
     "output_type": "display_data"
    }
   ],
   "source": [
    "import os\n",
    "import matplotlib.pyplot as plt\n",
    "import seaborn as sns\n",
    "from matplotlib.image import imread\n",
    "import pathlib\n",
    "\n",
    "image_folder=['butterfly','cat','chicken','cow','dog','elephant','horse','sheep','spider','squirrel']\n",
    "nimgs={}\n",
    "for i in image_folder:\n",
    "    nimages=len(os.listdir('./animal-data/train/'+i+'/'))\n",
    "    nimgs[i]=nimages\n",
    "plt.figure(figsize=(9, 6))\n",
    "plt.bar(range(len(nimgs)), list(nimgs.values()), align='center')\n",
    "plt.xticks(range(len(nimgs)), list(nimgs.keys()))\n",
    "plt.title('Distribution of different classes in Training Dataset')\n",
    "plt.show()"
   ]
  },
  {
   "cell_type": "code",
   "execution_count": 11,
   "id": "2f47e7a0",
   "metadata": {},
   "outputs": [
    {
     "name": "stdout",
     "output_type": "stream",
     "text": [
      "Training butterfly images are1667\n",
      "Training cat images are1326\n",
      "Training chicken images are2610\n",
      "Training cow images are1543\n",
      "Training dog images are4091\n",
      "Training elephant images are1196\n",
      "Training horse images are2187\n",
      "Training sheep images are1513\n",
      "Training spider images are4055\n",
      "Training squirrel images are1540\n"
     ]
    }
   ],
   "source": [
    "image_folder=['butterfly','cat','chicken','cow','dog','elephant','horse','sheep','spider','squirrel']\n",
    "for i in image_folder:\n",
    "    print('Training {} images are'. format(i)+str(len(os.listdir('./animal-data/train/'+i+'/'))))"
   ]
  },
  {
   "cell_type": "code",
   "execution_count": 12,
   "id": "697db11a",
   "metadata": {},
   "outputs": [
    {
     "data": {
      "image/png": "[encoded data removed]",
      "text/plain": [
       "<Figure size 648x432 with 1 Axes>"
      ]
     },
     "metadata": {
      "needs_background": "light"
     },
     "output_type": "display_data"
    }
   ],
   "source": [
    "image_folder=['butterfly','cat','chicken','cow','dog','elephant','horse','sheep','spider','squirrel']\n",
    "nimgs={}\n",
    "for i in image_folder:\n",
    "    nimages=len(os.listdir('./animal-data/validation/'+i+'/'))\n",
    "    nimgs[i]=nimages\n",
    "plt.figure(figsize=(9, 6))\n",
    "plt.bar(range(len(nimgs)), list(nimgs.values()), align='center')\n",
    "plt.xticks(range(len(nimgs)), list(nimgs.keys()))\n",
    "plt.title('Distribution of different classes in Training Dataset')\n",
    "plt.show()"
   ]
  },
  {
   "cell_type": "code",
   "execution_count": 13,
   "id": "40d70c29",
   "metadata": {},
   "outputs": [
    {
     "name": "stdout",
     "output_type": "stream",
     "text": [
      "Training butterfly images are295\n",
      "Training cat images are235\n",
      "Training chicken images are461\n",
      "Training cow images are273\n",
      "Training dog images are722\n",
      "Training elephant images are212\n",
      "Training horse images are386\n",
      "Training sheep images are268\n",
      "Training spider images are716\n",
      "Training squirrel images are272\n"
     ]
    }
   ],
   "source": [
    "image_folder=['butterfly','cat','chicken','cow','dog','elephant','horse','sheep','spider','squirrel']\n",
    "for i in image_folder:\n",
    "    print('Training {} images are'. format(i)+str(len(os.listdir('./animal-data/validation/'+i+'/'))))"
   ]
  },
  {
   "cell_type": "code",
   "execution_count": 14,
   "id": "e56597dc",
   "metadata": {},
   "outputs": [],
   "source": [
    "from tensorflow.keras.optimizers import Adam\n",
    "from tensorflow.keras.preprocessing.image import ImageDataGenerator\n",
    "from tensorflow.keras.layers import Conv2D, MaxPooling2D, Flatten, Dense, Dropout\n",
    "from tensorflow.keras.models import Sequential\n",
    "from tensorflow.keras.callbacks import EarlyStopping, ModelCheckpoint"
   ]
  },
  {
   "cell_type": "code",
   "execution_count": 1,
   "id": "7788fe4f",
   "metadata": {},
   "outputs": [],
   "source": [
    "image_width=256\n",
    "image_height=256\n",
    "batch_size=50"
   ]
  },
  {
   "cell_type": "code",
   "execution_count": 16,
   "id": "186906e0",
   "metadata": {},
   "outputs": [
    {
     "name": "stdout",
     "output_type": "stream",
     "text": [
      "Found 21728 images belonging to 10 classes.\n"
     ]
    }
   ],
   "source": [
    "TRAINING_DIR='./animal-data/train/'\n",
    "\n",
    "train_datagen = ImageDataGenerator(rescale = 1/255.0,\n",
    "                                   rotation_range=30,\n",
    "                                   zoom_range=0.4,\n",
    "                                   horizontal_flip=True)\n",
    "\n",
    "train_generator = train_datagen.flow_from_directory(TRAINING_DIR,\n",
    "                                                    batch_size=batch_size,\n",
    "                                                    class_mode='categorical',\n",
    "                                                    target_size=(image_height, image_width))"
   ]
  },
  {
   "cell_type": "code",
   "execution_count": 17,
   "id": "dfcf8c69",
   "metadata": {},
   "outputs": [
    {
     "name": "stdout",
     "output_type": "stream",
     "text": [
      "Found 3840 images belonging to 10 classes.\n"
     ]
    }
   ],
   "source": [
    "VALIDATION_DIR='./animal-data/validation/'\n",
    "\n",
    "validation_datagen = ImageDataGenerator(rescale = 1/255.0)\n",
    "\n",
    "validation_generator = train_datagen.flow_from_directory(VALIDATION_DIR,\n",
    "                                                    batch_size=batch_size,\n",
    "                                                    class_mode='categorical',\n",
    "                                                    target_size=(image_height, image_width))"
   ]
  },
  {
   "cell_type": "code",
   "execution_count": 18,
   "id": "6813cff5",
   "metadata": {},
   "outputs": [],
   "source": [
    "callbacks = EarlyStopping(monitor='val_loss', patience=5, verbose=1, mode='auto')\n",
    "# autosave best Model\n",
    "best_model_file = './CNN_aug_best_weights.h5'\n",
    "best_model = ModelCheckpoint(best_model_file, monitor='val_acc', verbose = 1, save_best_only=True) "
   ]
  },
  {
   "cell_type": "code",
   "execution_count": 63,
   "id": "0ab064c2",
   "metadata": {},
   "outputs": [
    {
     "name": "stdout",
     "output_type": "stream",
     "text": [
      "Model: \"sequential_5\"\n",
      "_________________________________________________________________\n",
      " Layer (type)                Output Shape              Param #   \n",
      "=================================================================\n",
      " conv2d_40 (Conv2D)          (None, 254, 254, 16)      448       \n",
      "                                                                 \n",
      " max_pooling2d_23 (MaxPoolin  (None, 127, 127, 16)     0         \n",
      " g2D)                                                            \n",
      "                                                                 \n",
      " conv2d_41 (Conv2D)          (None, 125, 125, 32)      4640      \n",
      "                                                                 \n",
      " max_pooling2d_24 (MaxPoolin  (None, 62, 62, 32)       0         \n",
      " g2D)                                                            \n",
      "                                                                 \n",
      " conv2d_42 (Conv2D)          (None, 60, 60, 64)        18496     \n",
      "                                                                 \n",
      " conv2d_43 (Conv2D)          (None, 58, 58, 64)        36928     \n",
      "                                                                 \n",
      " max_pooling2d_25 (MaxPoolin  (None, 29, 29, 64)       0         \n",
      " g2D)                                                            \n",
      "                                                                 \n",
      " flatten_5 (Flatten)         (None, 53824)             0         \n",
      "                                                                 \n",
      " dense_14 (Dense)            (None, 256)               13779200  \n",
      "                                                                 \n",
      " dense_15 (Dense)            (None, 10)                2570      \n",
      "                                                                 \n",
      "=================================================================\n",
      "Total params: 13,842,282\n",
      "Trainable params: 13,842,282\n",
      "Non-trainable params: 0\n",
      "_________________________________________________________________\n"
     ]
    }
   ],
   "source": [
    "model = Sequential([\n",
    "    Conv2D(16, (3, 3), activation='relu', input_shape=(image_height, image_width, 3)), MaxPooling2D(2, 2),\n",
    "    Conv2D(32, (3, 3), activation='relu'), MaxPooling2D(2, 2),\n",
    "    Conv2D(64, (3, 3), activation='relu'),\n",
    "    Conv2D(64, (3, 3), activation='relu'),\n",
    "    MaxPooling2D(2, 2),\n",
    "    Flatten(),\n",
    "    Dense(256, activation='relu'),\n",
    "    Dense(10, activation='softmax')\n",
    "])\n",
    "model.summary()"
   ]
  },
  {
   "cell_type": "code",
   "execution_count": 64,
   "id": "a4ff9ff4",
   "metadata": {},
   "outputs": [],
   "source": [
    "# model.compile(optimizer='Adam', \n",
    "#               loss='categorical_crossentropy', \n",
    "#               metrics =['accuracy'])"
   ]
  },
  {
   "cell_type": "code",
   "execution_count": 66,
   "id": "6258baff",
   "metadata": {},
   "outputs": [
    {
     "name": "stderr",
     "output_type": "stream",
     "text": [
      "C:\\Users\\Kushal\\AppData\\Local\\Temp/ipykernel_19128/3005456697.py:1: UserWarning: `Model.fit_generator` is deprecated and will be removed in a future version. Please use `Model.fit`, which supports generators.\n",
      "  history = model.fit_generator(train_generator,\n"
     ]
    },
    {
     "name": "stdout",
     "output_type": "stream",
     "text": [
      "Epoch 1/20\n",
      "435/435 [==============================] - ETA: 0s - loss: 1.8245 - accuracy: 0.3550WARNING:tensorflow:Can save best model only with val_acc available, skipping.\n",
      "435/435 [==============================] - 1398s 3s/step - loss: 1.8245 - accuracy: 0.3550 - val_loss: 1.5786 - val_accuracy: 0.4596\n",
      "Epoch 2/20\n",
      "435/435 [==============================] - ETA: 0s - loss: 1.4707 - accuracy: 0.4898WARNING:tensorflow:Can save best model only with val_acc available, skipping.\n",
      "435/435 [==============================] - 1132s 3s/step - loss: 1.4707 - accuracy: 0.4898 - val_loss: 1.4719 - val_accuracy: 0.4872\n",
      "Epoch 3/20\n",
      "435/435 [==============================] - ETA: 0s - loss: 1.3051 - accuracy: 0.5561WARNING:tensorflow:Can save best model only with val_acc available, skipping.\n",
      "435/435 [==============================] - 1003s 2s/step - loss: 1.3051 - accuracy: 0.5561 - val_loss: 1.3131 - val_accuracy: 0.5560\n",
      "Epoch 4/20\n",
      "435/435 [==============================] - ETA: 0s - loss: 1.1833 - accuracy: 0.5968WARNING:tensorflow:Can save best model only with val_acc available, skipping.\n",
      "435/435 [==============================] - 958s 2s/step - loss: 1.1833 - accuracy: 0.5968 - val_loss: 1.1927 - val_accuracy: 0.5938\n",
      "Epoch 5/20\n",
      "435/435 [==============================] - ETA: 0s - loss: 1.0933 - accuracy: 0.6296WARNING:tensorflow:Can save best model only with val_acc available, skipping.\n",
      "435/435 [==============================] - 958s 2s/step - loss: 1.0933 - accuracy: 0.6296 - val_loss: 1.0900 - val_accuracy: 0.6284\n",
      "Epoch 6/20\n",
      "435/435 [==============================] - ETA: 0s - loss: 1.0254 - accuracy: 0.6489WARNING:tensorflow:Can save best model only with val_acc available, skipping.\n",
      "435/435 [==============================] - 1267s 3s/step - loss: 1.0254 - accuracy: 0.6489 - val_loss: 1.0496 - val_accuracy: 0.6414\n",
      "Epoch 7/20\n",
      "435/435 [==============================] - ETA: 0s - loss: 0.9952 - accuracy: 0.6607WARNING:tensorflow:Can save best model only with val_acc available, skipping.\n",
      "435/435 [==============================] - 1143s 3s/step - loss: 0.9952 - accuracy: 0.6607 - val_loss: 1.0070 - val_accuracy: 0.6633\n",
      "Epoch 8/20\n",
      "435/435 [==============================] - ETA: 0s - loss: 0.9502 - accuracy: 0.6812WARNING:tensorflow:Can save best model only with val_acc available, skipping.\n",
      "435/435 [==============================] - 953s 2s/step - loss: 0.9502 - accuracy: 0.6812 - val_loss: 1.0302 - val_accuracy: 0.6513\n",
      "Epoch 9/20\n",
      "435/435 [==============================] - ETA: 0s - loss: 0.9118 - accuracy: 0.6888WARNING:tensorflow:Can save best model only with val_acc available, skipping.\n",
      "435/435 [==============================] - 953s 2s/step - loss: 0.9118 - accuracy: 0.6888 - val_loss: 0.9576 - val_accuracy: 0.6695\n",
      "Epoch 10/20\n",
      "435/435 [==============================] - ETA: 0s - loss: 0.8773 - accuracy: 0.7037WARNING:tensorflow:Can save best model only with val_acc available, skipping.\n",
      "435/435 [==============================] - 987s 2s/step - loss: 0.8773 - accuracy: 0.7037 - val_loss: 0.9578 - val_accuracy: 0.6792\n",
      "Epoch 11/20\n",
      "435/435 [==============================] - ETA: 0s - loss: 0.8594 - accuracy: 0.7094WARNING:tensorflow:Can save best model only with val_acc available, skipping.\n",
      "435/435 [==============================] - 1266s 3s/step - loss: 0.8594 - accuracy: 0.7094 - val_loss: 1.0357 - val_accuracy: 0.6568\n",
      "Epoch 12/20\n",
      "435/435 [==============================] - ETA: 0s - loss: 0.8452 - accuracy: 0.7113WARNING:tensorflow:Can save best model only with val_acc available, skipping.\n",
      "435/435 [==============================] - 1100s 3s/step - loss: 0.8452 - accuracy: 0.7113 - val_loss: 0.9371 - val_accuracy: 0.6919\n",
      "Epoch 13/20\n",
      "435/435 [==============================] - ETA: 0s - loss: 0.8186 - accuracy: 0.7222WARNING:tensorflow:Can save best model only with val_acc available, skipping.\n",
      "435/435 [==============================] - 1073s 2s/step - loss: 0.8186 - accuracy: 0.7222 - val_loss: 0.9487 - val_accuracy: 0.6807\n",
      "Epoch 14/20\n",
      "435/435 [==============================] - ETA: 0s - loss: 0.7983 - accuracy: 0.7275WARNING:tensorflow:Can save best model only with val_acc available, skipping.\n",
      "435/435 [==============================] - 968s 2s/step - loss: 0.7983 - accuracy: 0.7275 - val_loss: 0.8991 - val_accuracy: 0.7063\n",
      "Epoch 15/20\n",
      "435/435 [==============================] - ETA: 0s - loss: 0.7954 - accuracy: 0.7296WARNING:tensorflow:Can save best model only with val_acc available, skipping.\n",
      "435/435 [==============================] - 1359s 3s/step - loss: 0.7954 - accuracy: 0.7296 - val_loss: 0.9041 - val_accuracy: 0.7010\n",
      "Epoch 16/20\n",
      "435/435 [==============================] - ETA: 0s - loss: 0.7822 - accuracy: 0.7329WARNING:tensorflow:Can save best model only with val_acc available, skipping.\n",
      "435/435 [==============================] - 1367s 3s/step - loss: 0.7822 - accuracy: 0.7329 - val_loss: 0.8606 - val_accuracy: 0.7185\n",
      "Epoch 17/20\n",
      "435/435 [==============================] - ETA: 0s - loss: 0.7627 - accuracy: 0.7417WARNING:tensorflow:Can save best model only with val_acc available, skipping.\n",
      "435/435 [==============================] - 1196s 3s/step - loss: 0.7627 - accuracy: 0.7417 - val_loss: 0.8863 - val_accuracy: 0.7151\n",
      "Epoch 18/20\n",
      "435/435 [==============================] - ETA: 0s - loss: 0.7330 - accuracy: 0.7531WARNING:tensorflow:Can save best model only with val_acc available, skipping.\n",
      "435/435 [==============================] - 1517s 3s/step - loss: 0.7330 - accuracy: 0.7531 - val_loss: 0.8862 - val_accuracy: 0.7060\n",
      "Epoch 19/20\n",
      "435/435 [==============================] - ETA: 0s - loss: 0.7405 - accuracy: 0.7495WARNING:tensorflow:Can save best model only with val_acc available, skipping.\n",
      "435/435 [==============================] - 1607s 4s/step - loss: 0.7405 - accuracy: 0.7495 - val_loss: 0.8755 - val_accuracy: 0.7070\n",
      "Epoch 20/20\n",
      "435/435 [==============================] - ETA: 0s - loss: 0.7205 - accuracy: 0.7542WARNING:tensorflow:Can save best model only with val_acc available, skipping.\n",
      "435/435 [==============================] - 1462s 3s/step - loss: 0.7205 - accuracy: 0.7542 - val_loss: 0.8662 - val_accuracy: 0.7159\n"
     ]
    }
   ],
   "source": [
    "# history = model.fit_generator(train_generator,\n",
    "#                               epochs=20,\n",
    "#                               verbose=1,\n",
    "#                               validation_data=validation_generator,\n",
    "#                               callbacks = [best_model]\n",
    "#                               )"
   ]
  },
  {
   "cell_type": "code",
   "execution_count": 68,
   "id": "1667f89e",
   "metadata": {},
   "outputs": [
    {
     "data": {
      "image/png": "[encoded data removed]",
      "text/plain": [
       "<Figure size 1008x504 with 1 Axes>"
      ]
     },
     "metadata": {
      "needs_background": "light"
     },
     "output_type": "display_data"
    }
   ],
   "source": [
    "acc=history.history['accuracy']\n",
    "val_acc=history.history['val_accuracy']\n",
    "loss=history.history['loss']\n",
    "val_loss=history.history['val_loss']\n",
    "\n",
    "epochs=range(len(acc))\n",
    "\n",
    "fig = plt.figure(figsize=(14,7))\n",
    "plt.plot(epochs, acc, 'r', label=\"Training Accuracy\")\n",
    "plt.plot(epochs, val_acc, 'b', label=\"Validation Accuracy\")\n",
    "plt.xlabel('Epoch')\n",
    "plt.ylabel('Accuracy')\n",
    "plt.title('Training and validation accuracy')\n",
    "plt.legend(loc='lower right')\n",
    "plt.show()"
   ]
  },
  {
   "cell_type": "code",
   "execution_count": 69,
   "id": "4a4863e7",
   "metadata": {},
   "outputs": [
    {
     "data": {
      "text/plain": [
       "Text(0.5, 1.0, 'Training and validation loss')"
      ]
     },
     "execution_count": 69,
     "metadata": {},
     "output_type": "execute_result"
    },
    {
     "data": {
      "image/png": "[encoded data removed]",
      "text/plain": [
       "<Figure size 1008x504 with 1 Axes>"
      ]
     },
     "metadata": {
      "needs_background": "light"
     },
     "output_type": "display_data"
    }
   ],
   "source": [
    "fig2 = plt.figure(figsize=(14,7))\n",
    "plt.plot(epochs, loss, 'r', label=\"Training Loss\")\n",
    "plt.plot(epochs, val_loss, 'b', label=\"Validation Loss\")\n",
    "plt.legend(loc='upper right')\n",
    "plt.xlabel('Epoch')\n",
    "plt.ylabel('Loss')\n",
    "plt.title('Training and validation loss')"
   ]
  },
  {
   "cell_type": "code",
   "execution_count": 2,
   "id": "b58cade5",
   "metadata": {},
   "outputs": [],
   "source": [
    "## Test Performance on Test Data\n",
    "import pandas as pd\n",
    "import numpy as np\n",
    "from keras.preprocessing.image import load_img, img_to_array\n",
    "\n",
    "def preprocess_image(path):\n",
    "    img = load_img(path, target_size = (image_height, image_width))\n",
    "    a = img_to_array(img)\n",
    "    a = np.expand_dims(a, axis = 0)\n",
    "    a /= 255.\n",
    "    return a"
   ]
  },
  {
   "cell_type": "code",
   "execution_count": 3,
   "id": "0584baf3",
   "metadata": {},
   "outputs": [],
   "source": [
    "# Read Test Images Dir and their labels\n",
    "test_images_dir='./dataset/alienset/'\n",
    "test_df=pd.read_csv('./test.csv')\n",
    "\n",
    "# pur them in a list\n",
    "test_dfToList=test_df['Image_id'].tolist()\n",
    "test_ids=[str(item) for item in test_dfToList]\n",
    "\n",
    "test_images=[test_images_dir+item for item in test_ids]\n",
    "test_preprocessed_images = np.vstack([preprocess_image(fn) for fn in test_images])\n",
    "np.save('./test_preproc_CNN.npy', test_preprocessed_images)"
   ]
  },
  {
   "cell_type": "code",
   "execution_count": 22,
   "id": "d8655d0e",
   "metadata": {},
   "outputs": [
    {
     "ename": "NameError",
     "evalue": "name 'model' is not defined",
     "output_type": "error",
     "traceback": [
      "\u001b[1;31m---------------------------------------------------------------------------\u001b[0m",
      "\u001b[1;31mNameError\u001b[0m                                 Traceback (most recent call last)",
      "\u001b[1;32m~\\AppData\\Local\\Temp/ipykernel_16272/1941092126.py\u001b[0m in \u001b[0;36m<module>\u001b[1;34m\u001b[0m\n\u001b[1;32m----> 1\u001b[1;33m \u001b[0marray\u001b[0m\u001b[1;33m=\u001b[0m\u001b[0mmodel\u001b[0m\u001b[1;33m.\u001b[0m\u001b[0mpredict\u001b[0m\u001b[1;33m(\u001b[0m\u001b[0mtest_preprocessed_images\u001b[0m\u001b[1;33m,\u001b[0m \u001b[0mbatch_size\u001b[0m\u001b[1;33m=\u001b[0m\u001b[1;36m1\u001b[0m\u001b[1;33m,\u001b[0m \u001b[0mverbose\u001b[0m\u001b[1;33m=\u001b[0m\u001b[1;36m1\u001b[0m\u001b[1;33m)\u001b[0m\u001b[1;33m\u001b[0m\u001b[1;33m\u001b[0m\u001b[0m\n\u001b[0m\u001b[0;32m      2\u001b[0m \u001b[0manswer\u001b[0m\u001b[1;33m=\u001b[0m\u001b[0mnp\u001b[0m\u001b[1;33m.\u001b[0m\u001b[0margmax\u001b[0m\u001b[1;33m(\u001b[0m\u001b[0marray\u001b[0m\u001b[1;33m,\u001b[0m \u001b[0maxis\u001b[0m\u001b[1;33m=\u001b[0m\u001b[1;36m1\u001b[0m\u001b[1;33m)\u001b[0m\u001b[1;33m\u001b[0m\u001b[1;33m\u001b[0m\u001b[0m\n\u001b[0;32m      3\u001b[0m \u001b[0mprint\u001b[0m\u001b[1;33m(\u001b[0m\u001b[0manswer\u001b[0m\u001b[1;33m)\u001b[0m\u001b[1;33m\u001b[0m\u001b[1;33m\u001b[0m\u001b[0m\n",
      "\u001b[1;31mNameError\u001b[0m: name 'model' is not defined"
     ]
    }
   ],
   "source": [
    "array=model.predict(test_preprocessed_images, batch_size=1, verbose=1)\n",
    "answer=np.argmax(array, axis=1)\n",
    "print(answer)"
   ]
  },
  {
   "cell_type": "code",
   "execution_count": 79,
   "id": "a75e1890",
   "metadata": {},
   "outputs": [
    {
     "name": "stdout",
     "output_type": "stream",
     "text": [
      "0     0\n",
      "1     0\n",
      "2     0\n",
      "3     0\n",
      "4     0\n",
      "     ..\n",
      "95    9\n",
      "96    9\n",
      "97    9\n",
      "98    9\n",
      "99    9\n",
      "Name: label, Length: 100, dtype: int64\n"
     ]
    }
   ],
   "source": [
    "test_df = pd.read_csv('./test.csv')\n",
    "y_true = test_df['label']\n",
    "y_pred = array\n",
    "print(y_true)"
   ]
  },
  {
   "cell_type": "code",
   "execution_count": 80,
   "id": "4b8078ac",
   "metadata": {},
   "outputs": [],
   "source": [
    "from sklearn.metrics import log_loss\n",
    "loss = log_loss(y_true, y_pred, eps=1e-15, normalize=True, sample_weight=None, labels=None)"
   ]
  },
  {
   "cell_type": "code",
   "execution_count": 81,
   "id": "ae8648bc",
   "metadata": {},
   "outputs": [
    {
     "data": {
      "text/plain": [
       "array([[10,  0,  1,  0,  0,  0,  0,  0,  0,  0],\n",
       "       [ 0,  8,  0,  0,  2,  0,  0,  0,  0,  1],\n",
       "       [ 0,  0, 12,  0,  0,  0,  0,  0,  0,  0],\n",
       "       [ 0,  0,  1,  5,  1,  0,  0,  1,  0,  0],\n",
       "       [ 0,  0,  0,  0,  9,  0,  0,  0,  1,  0],\n",
       "       [ 0,  0,  2,  1,  0,  6,  0,  1,  0,  0],\n",
       "       [ 0,  0,  0,  1,  0,  0,  6,  1,  0,  0],\n",
       "       [ 0,  0,  0,  1,  0,  1,  0,  7,  0,  1],\n",
       "       [ 1,  0,  0,  0,  1,  0,  0,  0,  7,  1],\n",
       "       [ 0,  0,  0,  0,  3,  1,  0,  0,  0,  6]], dtype=int64)"
      ]
     },
     "execution_count": 81,
     "metadata": {},
     "output_type": "execute_result"
    }
   ],
   "source": [
    "from sklearn.metrics import confusion_matrix\n",
    "conf_mat = confusion_matrix(y_true, answer)\n",
    "conf_mat"
   ]
  },
  {
   "cell_type": "code",
   "execution_count": 82,
   "id": "58ffcebd",
   "metadata": {},
   "outputs": [],
   "source": [
    "train_dir = './animal-data/train/'\n",
    "classes = os.listdir(train_dir)"
   ]
  },
  {
   "cell_type": "code",
   "execution_count": 83,
   "id": "e7f09fe9",
   "metadata": {},
   "outputs": [],
   "source": [
    "import itertools\n",
    "def plot_confusion_matrix(cm, classes,\n",
    "                          normalize=False,\n",
    "                          title='Confusion matrix',\n",
    "                          cmap=plt.cm.Reds):\n",
    "    \"\"\"\n",
    "    This function prints and plots the confusion matrix.\n",
    "    Normalization can be applied by setting `normalize=True`.\n",
    "    \"\"\"\n",
    "    plt.imshow(cm, interpolation='nearest', cmap=cmap)\n",
    "    plt.title(title)\n",
    "    plt.colorbar()\n",
    "    tick_marks = np.arange(len(classes))\n",
    "    plt.xticks(tick_marks, classes, rotation=45)\n",
    "    plt.yticks(tick_marks, classes)\n",
    "\n",
    "    if normalize:\n",
    "        cm = cm.astype('float') / cm.sum(axis=1)[:, np.newaxis]\n",
    "        cm = cm.round(2)\n",
    "        #print(\"Normalized confusion matrix\")\n",
    "    else:\n",
    "        cm=cm\n",
    "        #print('Confusion matrix, without normalization')\n",
    "\n",
    "    #print(cm)\n",
    "\n",
    "    thresh = cm.max() / 2.\n",
    "    for i, j in itertools.product(range(cm.shape[0]), range(cm.shape[1])):\n",
    "        plt.text(j, i, cm[i, j],\n",
    "                 horizontalalignment=\"center\",\n",
    "                 color=\"white\" if cm[i, j] > thresh else \"black\")\n",
    "\n",
    "    plt.tight_layout()\n",
    "    plt.ylabel('True label')\n",
    "    plt.xlabel('Predicted label')"
   ]
  },
  {
   "cell_type": "code",
   "execution_count": 84,
   "id": "2c752a04",
   "metadata": {},
   "outputs": [
    {
     "data": {
      "image/png": "[encoded data removed]",
      "text/plain": [
       "<Figure size 504x432 with 2 Axes>"
      ]
     },
     "metadata": {
      "needs_background": "light"
     },
     "output_type": "display_data"
    }
   ],
   "source": [
    "np.set_printoptions(precision=2)\n",
    "\n",
    "fig1 = plt.figure(figsize=(7,6))\n",
    "plot_confusion_matrix(conf_mat, classes=classes, title='Confusion matrix, without normalization')\n",
    "plt.show()"
   ]
  },
  {
   "cell_type": "code",
   "execution_count": 116,
   "id": "25d59f8c",
   "metadata": {},
   "outputs": [
    {
     "data": {
      "image/png": "[encoded data removed]",
      "text/plain": [
       "<Figure size 504x432 with 2 Axes>"
      ]
     },
     "metadata": {
      "needs_background": "light"
     },
     "output_type": "display_data"
    }
   ],
   "source": [
    "np.set_printoptions(precision=2)\n",
    "\n",
    "fig1 = plt.figure(figsize=(7,6))\n",
    "plot_confusion_matrix(conf_mat, classes=classes, title='Confusion matrix, with normalization',normalize=True)\n",
    "plt.show()"
   ]
  },
  {
   "cell_type": "code",
   "execution_count": 93,
   "id": "9ea7f148",
   "metadata": {},
   "outputs": [
    {
     "name": "stdout",
     "output_type": "stream",
     "text": [
      "INFO:tensorflow:Assets written to: saved_model/my_model\\assets\n"
     ]
    }
   ],
   "source": [
    "# !mkdir -p saved_model\n",
    "# model.save('saved_model/my_model')"
   ]
  },
  {
   "cell_type": "code",
   "execution_count": 5,
   "id": "5913c35e",
   "metadata": {},
   "outputs": [
    {
     "name": "stdout",
     "output_type": "stream",
     "text": [
      "Model: \"sequential_5\"\n",
      "_________________________________________________________________\n",
      " Layer (type)                Output Shape              Param #   \n",
      "=================================================================\n",
      " conv2d_40 (Conv2D)          (None, 254, 254, 16)      448       \n",
      "                                                                 \n",
      " max_pooling2d_23 (MaxPoolin  (None, 127, 127, 16)     0         \n",
      " g2D)                                                            \n",
      "                                                                 \n",
      " conv2d_41 (Conv2D)          (None, 125, 125, 32)      4640      \n",
      "                                                                 \n",
      " max_pooling2d_24 (MaxPoolin  (None, 62, 62, 32)       0         \n",
      " g2D)                                                            \n",
      "                                                                 \n",
      " conv2d_42 (Conv2D)          (None, 60, 60, 64)        18496     \n",
      "                                                                 \n",
      " conv2d_43 (Conv2D)          (None, 58, 58, 64)        36928     \n",
      "                                                                 \n",
      " max_pooling2d_25 (MaxPoolin  (None, 29, 29, 64)       0         \n",
      " g2D)                                                            \n",
      "                                                                 \n",
      " flatten_5 (Flatten)         (None, 53824)             0         \n",
      "                                                                 \n",
      " dense_14 (Dense)            (None, 256)               13779200  \n",
      "                                                                 \n",
      " dense_15 (Dense)            (None, 10)                2570      \n",
      "                                                                 \n",
      "=================================================================\n",
      "Total params: 13,842,282\n",
      "Trainable params: 13,842,282\n",
      "Non-trainable params: 0\n",
      "_________________________________________________________________\n"
     ]
    }
   ],
   "source": [
    "import tensorflow as tf\n",
    "\n",
    "new_model = tf.keras.models.load_model('saved_model/my_model')\n",
    "\n",
    "# Check its architecture\n",
    "new_model.summary()"
   ]
  },
  {
   "cell_type": "code",
   "execution_count": 8,
   "id": "383bf619",
   "metadata": {},
   "outputs": [
    {
     "name": "stdout",
     "output_type": "stream",
     "text": [
      "<class 'numpy.int64'>\n"
     ]
    }
   ],
   "source": [
    "test_image=\"./dataset/prediction/1.jpg\"\n",
    "test_preprocessed_image=preprocess_image(test_image)\n",
    "result=new_model.predict(test_preprocessed_image)\n",
    "answer=np.argmax(result, axis=1)\n",
    "print(type(answer[0]))\n",
    "if answer[0] == 0:\n",
    "    prediction=\"butterfly\"\n",
    "elif answer[0] == 1:\n",
    "    prediction=\"cat\"\n",
    "elif answer[0] == 2:\n",
    "    prediction=\"chicken\"\n",
    "elif answer[0] == 3:\n",
    "    prediction=\"cow\"\n",
    "elif answer[0] == 4:\n",
    "    prediction=\"dog\"\n",
    "elif answer[0] == 5:\n",
    "    prediction=\"elephant\"\n",
    "elif answer[0] == 6:\n",
    "    prediction=\"horse\"\n",
    "elif answer[0] == 7:\n",
    "    prediction=\"sheep\"\n",
    "elif answer[0] == 8:\n",
    "    prediction=\"spider\"\n",
    "else:\n",
    "    prediction=\"squirrel\""
   ]
  },
  {
   "cell_type": "code",
   "execution_count": 9,
   "id": "298eb26a",
   "metadata": {},
   "outputs": [
    {
     "name": "stdout",
     "output_type": "stream",
     "text": [
      "cat\n"
     ]
    }
   ],
   "source": [
    "print(prediction)"
   ]
  },
  {
   "cell_type": "code",
   "execution_count": null,
   "id": "55839506",
   "metadata": {},
   "outputs": [],
   "source": []
  }
 ],
 "metadata": {
  "kernelspec": {
   "display_name": "Python 3 (ipykernel)",
   "language": "python",
   "name": "python3"
  },
  "language_info": {
   "codemirror_mode": {
    "name": "ipython",
    "version": 3
   },
   "file_extension": ".py",
   "mimetype": "text/x-python",
   "name": "python",
   "nbconvert_exporter": "python",
   "pygments_lexer": "ipython3",
   "version": "3.9.7"
  }
 },
 "nbformat": 4,
 "nbformat_minor": 5
}
