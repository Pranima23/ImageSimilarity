{
 "cells": [
  {
   "cell_type": "markdown",
   "id": "88cbc334",
   "metadata": {},
   "source": [
    "## Importing Libraries"
   ]
  },
  {
   "cell_type": "code",
   "execution_count": 2,
   "id": "9e5a0577",
   "metadata": {},
   "outputs": [],
   "source": [
    "import sys\n",
    "import numpy as np\n",
    "import pandas as pd\n",
    "from skimage.io import imread\n",
    "import pickle\n",
    "import os\n",
    "import matplotlib.pyplot as plt\n",
    "%matplotlib inline\n",
    "\n",
    "import cv2\n",
    "import time\n",
    "\n",
    "import tensorflow as tf\n",
    "from keras.models import Sequential\n",
    "from tensorflow.keras.optimizers import Adam\n",
    "from keras.layers import Conv2D, ZeroPadding2D, Activation, Input, concatenate\n",
    "from keras.models import Model\n",
    "from keras.preprocessing import image\n",
    "\n",
    "from tensorflow.keras.layers import BatchNormalization\n",
    "from keras.layers.pooling import MaxPooling2D\n",
    "from keras.layers.merge import Concatenate\n",
    "from keras.layers.core import Lambda, Flatten, Dense\n",
    "from keras.initializers import glorot_uniform\n",
    "from keras.preprocessing.image import ImageDataGenerator\n",
    "\n",
    "from tensorflow.keras.layers import Layer\n",
    "from keras.regularizers import l2\n",
    "from keras import backend as K\n",
    "\n",
    "from sklearn.utils import shuffle\n",
    "\n",
    "import numpy.random as rng"
   ]
  },
  {
   "cell_type": "markdown",
   "id": "f186742b",
   "metadata": {},
   "source": [
    "## Making Folders and Setting Directories"
   ]
  },
  {
   "cell_type": "code",
   "execution_count": 3,
   "id": "4688fa9f",
   "metadata": {},
   "outputs": [],
   "source": [
    "DATA_PATH= os.path.join('data/')\n",
    "TRAIN_PATH=os.path.join(DATA_PATH,'train')\n",
    "VAL_PATH=os.path.join(DATA_PATH,'validation')\n",
    "SAV_PATH=os.path.join(DATA_PATH, 'resized-data')"
   ]
  },
  {
   "cell_type": "code",
   "execution_count": 54,
   "id": "f286c6ea",
   "metadata": {},
   "outputs": [],
   "source": [
    "os.makedirs(TRAIN_PATH)\n",
    "os.makedirs(VAL_PATH)\n",
    "os.makedirs(SAV_PATH)"
   ]
  },
  {
   "cell_type": "code",
   "execution_count": 4,
   "id": "acd4b531",
   "metadata": {},
   "outputs": [
    {
     "name": "stdout",
     "output_type": "stream",
     "text": [
      "['antelope', 'badger', 'bat', 'bear', 'bee', 'beetle', 'bison', 'boar', 'butterfly', 'cat', 'caterpillar', 'chimpanzee', 'cockroach', 'cow', 'coyote', 'crab', 'crow', 'deer', 'dog', 'dolphin', 'donkey', 'dragonfly', 'duck', 'eagle', 'elephant', 'flamingo', 'fly', 'fox', 'goat', 'goldfish', 'goose', 'gorilla', 'grasshopper', 'hamster', 'hare', 'hedgehog', 'hippopotamus', 'hornbill', 'horse', 'hummingbird', 'hyena', 'jellyfish', 'kangaroo', 'koala', 'ladybugs', 'leopard']\n"
     ]
    }
   ],
   "source": [
    "print (os.listdir(TRAIN_PATH))"
   ]
  },
  {
   "cell_type": "code",
   "execution_count": 5,
   "id": "4bbef440",
   "metadata": {},
   "outputs": [
    {
     "name": "stdout",
     "output_type": "stream",
     "text": [
      "['lion', 'lizard', 'lobster', 'mosquito', 'moth', 'mouse', 'octopus', 'okapi', 'orangutan', 'otter', 'owl', 'ox', 'oyster', 'panda', 'parrot', 'pelecaniformes', 'penguin', 'pig', 'pigeon', 'porcupine', 'possum', 'raccoon', 'rat', 'reindeer', 'rhinoceros', 'sandpiper', 'seahorse', 'seal', 'shark', 'sheep', 'snake', 'sparrow', 'squid', 'squirrel', 'starfish', 'swan', 'tiger', 'turkey', 'turtle', 'whale', 'wolf', 'wombat', 'woodpecker', 'zebra']\n"
     ]
    }
   ],
   "source": [
    "print (os.listdir(VAL_PATH))"
   ]
  },
  {
   "cell_type": "markdown",
   "id": "8721eed0",
   "metadata": {},
   "source": [
    "## Loading the training and validation datasets"
   ]
  },
  {
   "cell_type": "code",
   "execution_count": 6,
   "id": "4ac611b5",
   "metadata": {},
   "outputs": [
    {
     "name": "stdout",
     "output_type": "stream",
     "text": [
      "File: 02f4b3be2d.jpg, Size: (1025, 1640, 3) Feature: [165 186 194 ... 126 169 188]\n",
      "File: 00f56e5c92.jpg, Size: (1200, 1200, 3) Feature: [ 25  43  54 ...  97 126 110]\n",
      "File: 003bd60fa9.jpg, Size: (168, 300, 3) Feature: [ 3  3  3 ... 75 74 76]\n",
      "File: 039b2ae790.jpg, Size: (1600, 1061, 3) Feature: [ 18  27  40 ...  98 117 132]\n",
      "File: 0d562e4829.jpg, Size: (183, 275, 3) Feature: [ 93 126 119 ...   2  33   4]\n",
      "File: 02b34c63a2.jpg, Size: (168, 300, 3) Feature: [213 211 211 ... 246 246 246]\n",
      "File: 02116e752c.jpg, Size: (464, 768, 3) Feature: [105 112 121 ...  66 100  76]\n",
      "File: 0903d0db72.jpg, Size: (183, 275, 3) Feature: [ 18  31  17 ... 217 215 215]\n",
      "File: 016caf0681.jpg, Size: (168, 300, 3) Feature: [ 12 156 104 ... 192 240 242]\n",
      "File: 00357563a7.jpg, Size: (698, 1240, 3) Feature: [109 133 163 ... 151 186 212]\n",
      "File: 01ee56d7db.jpg, Size: (650, 975, 3) Feature: [204 206 206 ... 155 160 163]\n",
      "File: 00981a3b70.jpg, Size: (168, 299, 3) Feature: [ 93 232 221 ...  66 105  89]\n",
      "File: 01af9577d7.jpg, Size: (178, 283, 3) Feature: [ 87 158 215 ... 223 201 206]\n",
      "File: 05768d38ec.jpg, Size: (720, 1280, 3) Feature: [163 206 255 ...  67 176 184]\n",
      "File: 004c3aef03.jpg, Size: (1080, 1920, 3) Feature: [ 38 118 111 ... 176 171 172]\n",
      "File: 01c3fc5278.jpg, Size: (275, 183, 3) Feature: [171 175 176 ... 224 226 226]\n",
      "File: 03c7cea31f.jpg, Size: (184, 274, 3) Feature: [128 161 176 ... 188 187 183]\n",
      "File: 03d871997f.jpg, Size: (225, 225, 3) Feature: [255 255 255 ... 255 255 255]\n",
      "File: 01c6b7230c.jpg, Size: (183, 275, 3) Feature: [211 188 150 ... 210 187 149]\n",
      "File: 03fbc036a0.jpg, Size: (1200, 1800, 3) Feature: [141 109  68 ...  28  23   2]\n",
      "File: 0409cd9133.jpg, Size: (167, 301, 3) Feature: [255 215 215 ... 145 183 185]\n",
      "File: 03b6bcc9af.jpg, Size: (164, 307, 3) Feature: [29 43 61 ... 54 92 94]\n",
      "File: 039f3a839d.jpg, Size: (1080, 1440, 3) Feature: [59 66 61 ... 23 90 63]\n",
      "File: 0572b4375b.jpg, Size: (217, 232, 3) Feature: [28 31 45 ... 69 83 89]\n",
      "File: 032ef781ef.jpg, Size: (183, 275, 3) Feature: [176 151 109 ...  70 113 162]\n",
      "File: 013f6503e9.jpg, Size: (183, 275, 3) Feature: [233 216  96 ... 246 244 190]\n",
      "File: 0107bf9fa0.jpg, Size: (400, 600, 3) Feature: [241 247 246 ... 243 243 243]\n",
      "File: 046e05e07b.jpg, Size: (660, 1000, 3) Feature: [ 19  47  54 ...  59 100 133]\n",
      "File: 037bf28bc5.jpg, Size: (720, 1280, 3) Feature: [231 223 224 ...  15 142 140]\n",
      "File: 0173d47eb4.jpg, Size: (225, 225, 3) Feature: [ 35 207 129 ...   0 121  87]\n",
      "File: 013aff2835.jpg, Size: (214, 236, 3) Feature: [255 255 255 ... 255 255 255]\n",
      "File: 010d3131e7.jpg, Size: (549, 976, 3) Feature: [109 156 164 ... 104 207 180]\n",
      "File: 01b471c3e8.jpg, Size: (174, 290, 3) Feature: [129 155 179 ... 137 171 184]\n",
      "File: 016f41b537.jpg, Size: (168, 299, 3) Feature: [134  28 251 ...  81  29 166]\n",
      "File: 01d3d9ad9a.jpg, Size: (183, 275, 3) Feature: [119 133 152 ... 136 150 173]\n",
      "File: 037fda7d6a.jpg, Size: (1192, 2119, 3) Feature: [23 49 36 ... 41 65 55]\n",
      "File: 004d703f95.jpg, Size: (574, 768, 3) Feature: [217 190 163 ... 186 128  62]\n",
      "File: 000ef44b56.jpg, Size: (167, 301, 3) Feature: [ 34  43  40 ... 139 187 188]\n",
      "File: 0428fff264.jpg, Size: (2055, 3072, 3) Feature: [190 133  64 ...  39  89 147]\n",
      "File: 00d1730748.jpg, Size: (212, 238, 3) Feature: [ 73  65  25 ... 152 139  93]\n",
      "File: 0041c9ff2c.jpg, Size: (3240, 4320, 3) Feature: [249 249 249 ...  87 115 122]\n",
      "File: 05b20e2efa.jpg, Size: (790, 1350, 3) Feature: [179 143  65 ...   2  41  20]\n",
      "File: 0009fc27d9.jpg, Size: (183, 275, 3) Feature: [ 93 142 128 ...  42 104  82]\n",
      "File: 0042f2effe.jpg, Size: (193, 261, 3) Feature: [ 3  5 15 ... 57 49 49]\n",
      "File: 0056a7d78a.jpg, Size: (591, 677, 3) Feature: [  4  10   9 ...  68 146 109]\n",
      "File: 033c8c8787.jpg, Size: (1440, 2560, 3) Feature: [ 87 132 183 ...  84 126 179]\n"
     ]
    }
   ],
   "source": [
    "for directory in os.listdir(TRAIN_PATH):\n",
    "    file= os.listdir(os.path.join(TRAIN_PATH,directory))[0]\n",
    "    img=cv2.imread(os.path.join(TRAIN_PATH,directory,file))\n",
    "    print(f'File: {file}, Size: {img.shape} Feature: {img.flatten()}')"
   ]
  },
  {
   "cell_type": "code",
   "execution_count": 25,
   "id": "b89554ae",
   "metadata": {},
   "outputs": [],
   "source": [
    "def loadimgs(path, n=0):\n",
    "    '''path=> Path of the train or test directory'''\n",
    "    X=[]\n",
    "    y=[]\n",
    "    cat_dict={}\n",
    "    curr_y = n\n",
    "    # We load every animal separately so we can isolate them later\n",
    "    for animal in os.listdir(path):\n",
    "        print(\"Loading animal:\", animal)\n",
    "        cat_dict[animal]=(curr_y)\n",
    "        category_images=[]\n",
    "        animal_image_path=os.path.join(path,animal)\n",
    "        for filename in os.listdir(animal_image_path):\n",
    "            image_path=os.path.join(animal_image_path, filename)\n",
    "            image=cv2.imread(image_path)\n",
    "            resized=cv2.resize(image, (64,64),interpolation=cv2.INTER_AREA)\n",
    "            rescaled=1.0/255*resized\n",
    "            category_images.append(rescaled)\n",
    "            y.append(curr_y)\n",
    "        try:\n",
    "            X.append(np.stack(category_images))\n",
    "        except ValueError as e:\n",
    "            print(e)\n",
    "            print(\"Error-Category_images:\", category_images)\n",
    "        curr_y+=1\n",
    "    y=np.vstack(y)\n",
    "    X=np.stack(X)\n",
    "    print(\"Loading Complete\")\n",
    "    return X,y,cat_dict"
   ]
  },
  {
   "cell_type": "code",
   "execution_count": 26,
   "id": "7bf4d1bf",
   "metadata": {},
   "outputs": [
    {
     "name": "stdout",
     "output_type": "stream",
     "text": [
      "Loading animal: antelope\n",
      "Loading animal: badger\n",
      "Loading animal: bat\n",
      "Loading animal: bear\n",
      "Loading animal: bee\n",
      "Loading animal: beetle\n",
      "Loading animal: bison\n",
      "Loading animal: boar\n",
      "Loading animal: butterfly\n",
      "Loading animal: cat\n",
      "Loading animal: caterpillar\n",
      "Loading animal: chimpanzee\n",
      "Loading animal: cockroach\n",
      "Loading animal: cow\n",
      "Loading animal: coyote\n",
      "Loading animal: crab\n",
      "Loading animal: crow\n",
      "Loading animal: deer\n",
      "Loading animal: dog\n",
      "Loading animal: dolphin\n",
      "Loading animal: donkey\n",
      "Loading animal: dragonfly\n",
      "Loading animal: duck\n",
      "Loading animal: eagle\n",
      "Loading animal: elephant\n",
      "Loading animal: flamingo\n",
      "Loading animal: fly\n",
      "Loading animal: fox\n",
      "Loading animal: goat\n",
      "Loading animal: goldfish\n",
      "Loading animal: goose\n",
      "Loading animal: gorilla\n",
      "Loading animal: grasshopper\n",
      "Loading animal: hamster\n",
      "Loading animal: hare\n",
      "Loading animal: hedgehog\n",
      "Loading animal: hippopotamus\n",
      "Loading animal: hornbill\n",
      "Loading animal: horse\n",
      "Loading animal: hummingbird\n",
      "Loading animal: hyena\n",
      "Loading animal: jellyfish\n",
      "Loading animal: kangaroo\n",
      "Loading animal: koala\n",
      "Loading animal: ladybugs\n",
      "Loading animal: leopard\n",
      "Loading Complete\n"
     ]
    }
   ],
   "source": [
    "X,y,c=loadimgs(TRAIN_PATH)"
   ]
  },
  {
   "cell_type": "code",
   "execution_count": 27,
   "id": "977dd877",
   "metadata": {},
   "outputs": [],
   "source": [
    "with open(os.path.join(SAV_PATH,\"train.pickle\"),\"wb\") as f:\n",
    "    pickle.dump((X,c),f)"
   ]
  },
  {
   "cell_type": "code",
   "execution_count": 28,
   "id": "3aaaa4ed",
   "metadata": {},
   "outputs": [
    {
     "data": {
      "text/plain": [
       "(46, 60, 64, 64, 3)"
      ]
     },
     "execution_count": 28,
     "metadata": {},
     "output_type": "execute_result"
    }
   ],
   "source": [
    "X.shape\n",
    "# 46 categories of animal, each containg 60 images and of dimensions 64*64*3"
   ]
  },
  {
   "cell_type": "code",
   "execution_count": 29,
   "id": "173b2af2",
   "metadata": {},
   "outputs": [
    {
     "data": {
      "text/plain": [
       "(2760, 1)"
      ]
     },
     "execution_count": 29,
     "metadata": {},
     "output_type": "execute_result"
    }
   ],
   "source": [
    "y.shape"
   ]
  },
  {
   "cell_type": "code",
   "execution_count": 30,
   "id": "3a3c9c6b",
   "metadata": {},
   "outputs": [
    {
     "data": {
      "text/plain": [
       "dict_keys(['antelope', 'badger', 'bat', 'bear', 'bee', 'beetle', 'bison', 'boar', 'butterfly', 'cat', 'caterpillar', 'chimpanzee', 'cockroach', 'cow', 'coyote', 'crab', 'crow', 'deer', 'dog', 'dolphin', 'donkey', 'dragonfly', 'duck', 'eagle', 'elephant', 'flamingo', 'fly', 'fox', 'goat', 'goldfish', 'goose', 'gorilla', 'grasshopper', 'hamster', 'hare', 'hedgehog', 'hippopotamus', 'hornbill', 'horse', 'hummingbird', 'hyena', 'jellyfish', 'kangaroo', 'koala', 'ladybugs', 'leopard'])"
      ]
     },
     "execution_count": 30,
     "metadata": {},
     "output_type": "execute_result"
    }
   ],
   "source": [
    "c.keys()"
   ]
  },
  {
   "cell_type": "code",
   "execution_count": 175,
   "id": "64c50625",
   "metadata": {},
   "outputs": [
    {
     "data": {
      "text/plain": [
       "{'antelope': 0,\n",
       " 'badger': 1,\n",
       " 'bat': 2,\n",
       " 'bear': 3,\n",
       " 'bee': 4,\n",
       " 'beetle': 5,\n",
       " 'bison': 6,\n",
       " 'boar': 7,\n",
       " 'butterfly': 8,\n",
       " 'cat': 9,\n",
       " 'caterpillar': 10,\n",
       " 'chimpanzee': 11,\n",
       " 'cockroach': 12,\n",
       " 'cow': 13,\n",
       " 'coyote': 14,\n",
       " 'crab': 15,\n",
       " 'crow': 16,\n",
       " 'deer': 17,\n",
       " 'dog': 18,\n",
       " 'dolphin': 19,\n",
       " 'donkey': 20,\n",
       " 'dragonfly': 21,\n",
       " 'duck': 22,\n",
       " 'eagle': 23,\n",
       " 'elephant': 24,\n",
       " 'flamingo': 25,\n",
       " 'fly': 26,\n",
       " 'fox': 27,\n",
       " 'goat': 28,\n",
       " 'goldfish': 29,\n",
       " 'goose': 30,\n",
       " 'gorilla': 31,\n",
       " 'grasshopper': 32,\n",
       " 'hamster': 33,\n",
       " 'hare': 34,\n",
       " 'hedgehog': 35,\n",
       " 'hippopotamus': 36,\n",
       " 'hornbill': 37,\n",
       " 'horse': 38,\n",
       " 'hummingbird': 39,\n",
       " 'hyena': 40,\n",
       " 'jellyfish': 41,\n",
       " 'kangaroo': 42,\n",
       " 'koala': 43,\n",
       " 'ladybugs': 44,\n",
       " 'leopard': 45}"
      ]
     },
     "execution_count": 175,
     "metadata": {},
     "output_type": "execute_result"
    }
   ],
   "source": [
    "c\n"
   ]
  },
  {
   "cell_type": "code",
   "execution_count": 32,
   "id": "3559a955",
   "metadata": {},
   "outputs": [
    {
     "name": "stdout",
     "output_type": "stream",
     "text": [
      "Loading animal: lion\n",
      "Loading animal: lizard\n",
      "Loading animal: lobster\n",
      "Loading animal: mosquito\n",
      "Loading animal: moth\n",
      "Loading animal: mouse\n",
      "Loading animal: octopus\n",
      "Loading animal: okapi\n",
      "Loading animal: orangutan\n",
      "Loading animal: otter\n",
      "Loading animal: owl\n",
      "Loading animal: ox\n",
      "Loading animal: oyster\n",
      "Loading animal: panda\n",
      "Loading animal: parrot\n",
      "Loading animal: pelecaniformes\n",
      "Loading animal: penguin\n",
      "Loading animal: pig\n",
      "Loading animal: pigeon\n",
      "Loading animal: porcupine\n",
      "Loading animal: possum\n",
      "Loading animal: raccoon\n",
      "Loading animal: rat\n",
      "Loading animal: reindeer\n",
      "Loading animal: rhinoceros\n",
      "Loading animal: sandpiper\n",
      "Loading animal: seahorse\n",
      "Loading animal: seal\n",
      "Loading animal: shark\n",
      "Loading animal: sheep\n",
      "Loading animal: snake\n",
      "Loading animal: sparrow\n",
      "Loading animal: squid\n",
      "Loading animal: squirrel\n",
      "Loading animal: starfish\n",
      "Loading animal: swan\n",
      "Loading animal: tiger\n",
      "Loading animal: turkey\n",
      "Loading animal: turtle\n",
      "Loading animal: whale\n",
      "Loading animal: wolf\n",
      "Loading animal: wombat\n",
      "Loading animal: woodpecker\n",
      "Loading animal: zebra\n",
      "Loading Complete\n"
     ]
    }
   ],
   "source": [
    "Xval, yval,cval=loadimgs(VAL_PATH)"
   ]
  },
  {
   "cell_type": "code",
   "execution_count": 33,
   "id": "86bae111",
   "metadata": {},
   "outputs": [],
   "source": [
    "with open(os.path.join(SAV_PATH,\"val.pickle\"),\"wb\") as f:\n",
    "    pickle.dump((Xval,cval),f)"
   ]
  },
  {
   "cell_type": "code",
   "execution_count": 34,
   "id": "780c50ab",
   "metadata": {},
   "outputs": [
    {
     "data": {
      "text/plain": [
       "(44, 60, 64, 64, 3)"
      ]
     },
     "execution_count": 34,
     "metadata": {},
     "output_type": "execute_result"
    }
   ],
   "source": [
    "Xval.shape"
   ]
  },
  {
   "cell_type": "code",
   "execution_count": 35,
   "id": "6d0fb774",
   "metadata": {},
   "outputs": [
    {
     "data": {
      "text/plain": [
       "(2640, 1)"
      ]
     },
     "execution_count": 35,
     "metadata": {},
     "output_type": "execute_result"
    }
   ],
   "source": [
    "yval.shape"
   ]
  },
  {
   "cell_type": "code",
   "execution_count": 36,
   "id": "72b347df",
   "metadata": {},
   "outputs": [
    {
     "data": {
      "text/plain": [
       "dict_keys(['lion', 'lizard', 'lobster', 'mosquito', 'moth', 'mouse', 'octopus', 'okapi', 'orangutan', 'otter', 'owl', 'ox', 'oyster', 'panda', 'parrot', 'pelecaniformes', 'penguin', 'pig', 'pigeon', 'porcupine', 'possum', 'raccoon', 'rat', 'reindeer', 'rhinoceros', 'sandpiper', 'seahorse', 'seal', 'shark', 'sheep', 'snake', 'sparrow', 'squid', 'squirrel', 'starfish', 'swan', 'tiger', 'turkey', 'turtle', 'whale', 'wolf', 'wombat', 'woodpecker', 'zebra'])"
      ]
     },
     "execution_count": 36,
     "metadata": {},
     "output_type": "execute_result"
    }
   ],
   "source": [
    "cval.keys()"
   ]
  },
  {
   "cell_type": "markdown",
   "id": "d66efa81",
   "metadata": {},
   "source": [
    "## Loading the saved pickle data"
   ]
  },
  {
   "cell_type": "code",
   "execution_count": 45,
   "id": "b411f8e8",
   "metadata": {},
   "outputs": [
    {
     "name": "stdout",
     "output_type": "stream",
     "text": [
      "Training alphabets: \n",
      "\n",
      "['antelope', 'badger', 'bat', 'bear', 'bee', 'beetle', 'bison', 'boar', 'butterfly', 'cat', 'caterpillar', 'chimpanzee', 'cockroach', 'cow', 'coyote', 'crab', 'crow', 'deer', 'dog', 'dolphin', 'donkey', 'dragonfly', 'duck', 'eagle', 'elephant', 'flamingo', 'fly', 'fox', 'goat', 'goldfish', 'goose', 'gorilla', 'grasshopper', 'hamster', 'hare', 'hedgehog', 'hippopotamus', 'hornbill', 'horse', 'hummingbird', 'hyena', 'jellyfish', 'kangaroo', 'koala', 'ladybugs', 'leopard']\n"
     ]
    }
   ],
   "source": [
    "with open(os.path.join(SAV_PATH, \"train.pickle\"), \"rb\") as f:\n",
    "    (Xtrain, train_classes) = pickle.load(f)\n",
    "    \n",
    "print(\"Training alphabets: \\n\")\n",
    "print(list(train_classes.keys()))"
   ]
  },
  {
   "cell_type": "code",
   "execution_count": 47,
   "id": "236fa859",
   "metadata": {},
   "outputs": [
    {
     "name": "stdout",
     "output_type": "stream",
     "text": [
      "Validation alphabets:\n",
      "\n",
      "['lion', 'lizard', 'lobster', 'mosquito', 'moth', 'mouse', 'octopus', 'okapi', 'orangutan', 'otter', 'owl', 'ox', 'oyster', 'panda', 'parrot', 'pelecaniformes', 'penguin', 'pig', 'pigeon', 'porcupine', 'possum', 'raccoon', 'rat', 'reindeer', 'rhinoceros', 'sandpiper', 'seahorse', 'seal', 'shark', 'sheep', 'snake', 'sparrow', 'squid', 'squirrel', 'starfish', 'swan', 'tiger', 'turkey', 'turtle', 'whale', 'wolf', 'wombat', 'woodpecker', 'zebra']\n"
     ]
    }
   ],
   "source": [
    "with open(os.path.join(SAV_PATH, \"val.pickle\"), \"rb\") as f:\n",
    "    (Xval, val_classes) = pickle.load(f)\n",
    "\n",
    "print(\"Validation alphabets:\", end=\"\\n\\n\")\n",
    "print(list(val_classes.keys()))"
   ]
  },
  {
   "cell_type": "code",
   "execution_count": 102,
   "id": "bd3fe934",
   "metadata": {},
   "outputs": [],
   "source": [
    "def get_batch(batch_size,s=\"train\"):\n",
    "    \"\"\"Create batch of n pairs, half same class, half different class\"\"\"\n",
    "    if s == 'train':\n",
    "        X = Xtrain\n",
    "        categories = train_classes\n",
    "    else:\n",
    "        X = Xval\n",
    "        categories = val_classes\n",
    "    n_classes, n_examples, w, h = X.shape[0], X.shape[1], X.shape[2], X.shape[3]\n",
    "\n",
    "    # randomly sample several classes to use in the batch\n",
    "    categories = rng.choice(n_classes,size=(batch_size,),replace=False)\n",
    "    \n",
    "    # initialize 2 empty arrays for the input image batch\n",
    "    pairs=[np.zeros((batch_size, h, w,3)) for i in range(2)]\n",
    "    \n",
    "    # initialize vector for the targets\n",
    "    targets=np.zeros((batch_size,))\n",
    "    \n",
    "    # make one half of it '1's, so 2nd half of batch has same class\n",
    "    targets[batch_size//2:] = 1\n",
    "    for i in range(batch_size):\n",
    "        category = categories[i]\n",
    "        idx_1 = rng.randint(0, n_examples)\n",
    "        pairs[0][i,:,:,:] = X[category, idx_1].reshape(w, h, 3)\n",
    "        idx_2 = rng.randint(0, n_examples)\n",
    "        \n",
    "        # pick images of same class for 1st half, different for 2nd\n",
    "        if i >= batch_size // 2:\n",
    "            category_2 = category  \n",
    "        else: \n",
    "            # add a random number to the category modulo n classes to ensure 2nd image has a different category\n",
    "            category_2 = (category + rng.randint(1,n_classes)) % n_classes\n",
    "        \n",
    "        pairs[1][i,:,:,:] = X[category_2,idx_2].reshape(w, h,3)\n",
    "    \n",
    "    return pairs, targets"
   ]
  },
  {
   "cell_type": "code",
   "execution_count": 49,
   "id": "0a267526",
   "metadata": {},
   "outputs": [],
   "source": [
    "def generate(batch_size, s=\"train\"):\n",
    "    \"\"\"a generator for batches, so model.fit_generator can be used. \"\"\"\n",
    "    while True:\n",
    "        pairs, targets = get_batch(batch_size,s)\n",
    "        yield (pairs, targets)"
   ]
  },
  {
   "cell_type": "code",
   "execution_count": 157,
   "id": "46a584a4",
   "metadata": {},
   "outputs": [],
   "source": [
    "def make_oneshot_task(N, s=\"val\", language=None):\n",
    "    \"\"\"Create pairs of test image, support set for testing N way one-shot learning. \"\"\"\n",
    "    if s == 'train':\n",
    "        X = Xtrain\n",
    "        categories = train_classes\n",
    "    else:\n",
    "        X = Xval\n",
    "        categories = val_classes\n",
    "    n_classes, n_examples, w, h = X.shape[0], X.shape[1], X.shape[2], X.shape[3]\n",
    "    \n",
    "    indices = rng.randint(0, n_examples,size=(N,))\n",
    "    categories = rng.choice(range(n_classes),size=(N,),replace=False)\n",
    "    true_category = categories[0]\n",
    "    ex1, ex2 = rng.choice(n_examples,replace=False,size=(2,))\n",
    "\n",
    "    test_image = np.asarray([X[true_category,ex1,:,:]]*N).reshape(N, w, h,3)\n",
    "    support_set = X[categories,indices,:,:]\n",
    "    support_set[0,:,:] = X[true_category,ex2]\n",
    "    support_set = support_set.reshape(N, w, h,3)\n",
    "    targets = np.zeros((N,))\n",
    "    targets[0] = 1\n",
    "    targets, test_image, support_set = shuffle(targets, test_image, support_set)\n",
    "    pairs = [test_image,support_set]\n",
    "\n",
    "    return pairs, targets"
   ]
  },
  {
   "cell_type": "code",
   "execution_count": 131,
   "id": "ee080e60",
   "metadata": {},
   "outputs": [],
   "source": [
    "def concat_images(X):\n",
    "    \"\"\"Concatenates a bunch of images into a big matrix for plotting purposes.\"\"\"\n",
    "    nc, h , w = X.shape[0], X.shape[1], X.shape[2]\n",
    "    X = X.reshape(nc, h, w,3)\n",
    "    n = np.ceil(np.sqrt(nc)).astype(\"int8\")\n",
    "    img = np.zeros((n*w,n*h,3))\n",
    "    x = 0\n",
    "    y = 0\n",
    "    for example in range(nc):\n",
    "        img[x*w:(x+1)*w,y*h:(y+1)*h] = X[example]\n",
    "        y += 1\n",
    "        if y >= n:\n",
    "            y = 0\n",
    "            x += 1\n",
    "    return img"
   ]
  },
  {
   "cell_type": "code",
   "execution_count": 132,
   "id": "2a89ee0a",
   "metadata": {},
   "outputs": [],
   "source": [
    "def plot_oneshot_task(pairs):\n",
    "    fig,(ax1,ax2) = plt.subplots(nrows=1, ncols=2)\n",
    "    ax1.matshow(pairs[0][0].reshape(64,64,3))\n",
    "    img = concat_images(pairs[1])\n",
    "    ax1.get_yaxis().set_visible(False)\n",
    "    ax1.get_xaxis().set_visible(False)\n",
    "    ax2.matshow(img,cmap='gray')\n",
    "    plt.xticks([])\n",
    "    plt.yticks([])\n",
    "    plt.show()"
   ]
  },
  {
   "cell_type": "code",
   "execution_count": 133,
   "id": "440a89a9",
   "metadata": {},
   "outputs": [
    {
     "name": "stdout",
     "output_type": "stream",
     "text": [
      "Indices [ 4 35 55 10  4 26  1  5 40 29 51 32 55 42 56 20]\n",
      "Category [32 39 27 26  8 18 30 15 44 29  3 34 19  1 33 24]\n",
      "EX 1 48\n",
      "EX 2 42\n"
     ]
    },
    {
     "data": {
      "image/png": "[encoded data removed]",
      "text/plain": [
       "<Figure size 432x288 with 2 Axes>"
      ]
     },
     "metadata": {
      "needs_background": "light"
     },
     "output_type": "display_data"
    }
   ],
   "source": [
    "pairs, targets = make_oneshot_task(16,\"train\")\n",
    "plot_oneshot_task(pairs)"
   ]
  },
  {
   "cell_type": "markdown",
   "id": "88f5daa7",
   "metadata": {},
   "source": [
    "## Siamese Model"
   ]
  },
  {
   "cell_type": "code",
   "execution_count": 163,
   "id": "b0f454c5",
   "metadata": {},
   "outputs": [],
   "source": [
    "def initialize_weights(shape, dtype=None):\n",
    "    \"\"\"\n",
    "        The paper, http://www.cs.utoronto.ca/~gkoch/files/msc-thesis.pdf\n",
    "        suggests to initialize CNN layer weights with mean as 0.0 and standard deviation of 0.01\n",
    "    \"\"\"\n",
    "    return np.random.normal(loc = 0.0, scale = 1e-2, size = shape)"
   ]
  },
  {
   "cell_type": "code",
   "execution_count": 168,
   "id": "02c56866",
   "metadata": {},
   "outputs": [],
   "source": [
    "def initialize_bias(shape, dtype=None):\n",
    "    \"\"\"\n",
    "        The paper, http://www.cs.utoronto.ca/~gkoch/files/msc-thesis.pdf\n",
    "        suggests to initialize CNN layer bias with mean as 0.5 and standard deviation of 0.01\n",
    "    \"\"\"\n",
    "    return np.random.normal(loc = 0.5, scale = 1e-2, size = shape)"
   ]
  },
  {
   "cell_type": "code",
   "execution_count": 169,
   "id": "378c66d7",
   "metadata": {},
   "outputs": [],
   "source": [
    "def get_siamese_model(input_shape):\n",
    "    \"\"\"\n",
    "        Model architecture based on the one provided in: http://www.cs.utoronto.ca/~gkoch/files/msc-thesis.pdf\n",
    "    \"\"\"\n",
    "    \n",
    "    # Define the tensors for the two input images\n",
    "    left_input = Input(input_shape)\n",
    "    right_input = Input(input_shape)\n",
    "    \n",
    "    # Convolutional Neural Network\n",
    "    model = Sequential()\n",
    "    model.add(Conv2D(16, (3,3), activation='relu', input_shape=input_shape,\n",
    "                    kernel_initializer=initialize_weights, kernel_regularizer=l2(2e-4)))\n",
    "    model.add(MaxPooling2D(2,2))\n",
    "    model.add(Conv2D(32, (3,3), activation='relu', kernel_initializer=initialize_weights,\n",
    "                     bias_initializer=initialize_bias, kernel_regularizer=l2(2e-4)))\n",
    "    model.add(MaxPooling2D(2,2))\n",
    "    model.add(Conv2D(64, (3,3), activation='relu',kernel_initializer=initialize_weights,\n",
    "                     bias_initializer=initialize_bias, kernel_regularizer=l2(2e-4)))\n",
    "    model.add(Conv2D(64, (3,3), activation='relu',kernel_initializer=initialize_weights,\n",
    "                     bias_initializer=initialize_bias, kernel_regularizer=l2(2e-4)))\n",
    "    model.add(MaxPooling2D(2,2))\n",
    "    model.add(Flatten())\n",
    "    model.add(Dense(256, activation='sigmoid',kernel_regularizer=l2(1e-3),\n",
    "                   kernel_initializer=initialize_weights,bias_initializer=initialize_bias))\n",
    "    model.add(Dense(256, activation='sigmoid',kernel_regularizer=l2(1e-3),\n",
    "                   kernel_initializer=initialize_weights,bias_initializer=initialize_bias))\n",
    "    \n",
    "    # Generate the encodings (feature vectors) for the two images\n",
    "    encoded_l = model(left_input)\n",
    "    encoded_r = model(right_input)\n",
    "    \n",
    "    # Add a customized layer to compute the absolute difference between the encodings\n",
    "    L1_layer = Lambda(lambda tensors:K.abs(tensors[0] - tensors[1]))\n",
    "    L1_distance = L1_layer([encoded_l, encoded_r])\n",
    "    \n",
    "    # Add a dense layer with a sigmoid unit to generate the similarity score\n",
    "    prediction = Dense(1,activation='sigmoid')(L1_distance)\n",
    "    \n",
    "    # Connect the inputs with the outputs\n",
    "    siamese_net = Model(inputs=[left_input,right_input],outputs=prediction)\n",
    "    \n",
    "    # return the model\n",
    "    return siamese_net"
   ]
  },
  {
   "cell_type": "code",
   "execution_count": 170,
   "id": "9adde8a6",
   "metadata": {},
   "outputs": [
    {
     "name": "stdout",
     "output_type": "stream",
     "text": [
      "Model: \"model_4\"\n",
      "__________________________________________________________________________________________________\n",
      " Layer (type)                   Output Shape         Param #     Connected to                     \n",
      "==================================================================================================\n",
      " input_15 (InputLayer)          [(None, 64, 64, 3)]  0           []                               \n",
      "                                                                                                  \n",
      " input_16 (InputLayer)          [(None, 64, 64, 3)]  0           []                               \n",
      "                                                                                                  \n",
      " sequential_7 (Sequential)      (None, 256)          536160      ['input_15[0][0]',               \n",
      "                                                                  'input_16[0][0]']               \n",
      "                                                                                                  \n",
      " lambda_5 (Lambda)              (None, 256)          0           ['sequential_7[0][0]',           \n",
      "                                                                  'sequential_7[1][0]']           \n",
      "                                                                                                  \n",
      " dense_14 (Dense)               (None, 1)            257         ['lambda_5[0][0]']               \n",
      "                                                                                                  \n",
      "==================================================================================================\n",
      "Total params: 536,417\n",
      "Trainable params: 536,417\n",
      "Non-trainable params: 0\n",
      "__________________________________________________________________________________________________\n"
     ]
    }
   ],
   "source": [
    "model = get_siamese_model((64, 64, 3))\n",
    "model.summary()"
   ]
  },
  {
   "cell_type": "code",
   "execution_count": 171,
   "id": "f67b2c36",
   "metadata": {},
   "outputs": [],
   "source": [
    "optimizer = Adam(learning_rate = 0.00006)\n",
    "model.compile(loss=\"binary_crossentropy\",optimizer=optimizer)"
   ]
  },
  {
   "cell_type": "code",
   "execution_count": 159,
   "id": "4468759b",
   "metadata": {},
   "outputs": [],
   "source": [
    "model_path = './weights/'\n",
    "os.makedirs(model_path)"
   ]
  },
  {
   "cell_type": "code",
   "execution_count": 172,
   "id": "c7123799",
   "metadata": {},
   "outputs": [],
   "source": [
    "def test_oneshot(model, N, k, s = \"val\", verbose = 0):\n",
    "    \"\"\"Test average N way oneshot learning accuracy of a siamese neural net over k one-shot tasks\"\"\"\n",
    "    n_correct = 0\n",
    "    if verbose:\n",
    "        print(\"Evaluating model on {} random {} way one-shot learning tasks ... \\n\".format(k,N))\n",
    "    for i in range(k):\n",
    "        inputs, targets = make_oneshot_task(N,s)\n",
    "        probs = model.predict(inputs)\n",
    "        if np.argmax(probs) == np.argmax(targets):\n",
    "            n_correct+=1\n",
    "    percent_correct = (100.0 * n_correct / k)\n",
    "    if verbose:\n",
    "        print(\"Got an average of {}% {} way one-shot learning accuracy \\n\".format(percent_correct,N))\n",
    "    return percent_correct"
   ]
  },
  {
   "cell_type": "code",
   "execution_count": 173,
   "id": "c914b46b",
   "metadata": {},
   "outputs": [],
   "source": [
    "# Hyper parameters\n",
    "evaluate_every = 200 # interval for evaluating on one-shot tasks\n",
    "batch_size = 32\n",
    "n_iter = 20000 # No. of training iterations\n",
    "N_way = 20 # how many classes for testing one-shot tasks\n",
    "n_val = 250 # how many one-shot tasks to validate on\n",
    "best = -1"
   ]
  },
  {
   "cell_type": "code",
   "execution_count": 174,
   "id": "0be2070a",
   "metadata": {},
   "outputs": [
    {
     "name": "stdout",
     "output_type": "stream",
     "text": [
      "Starting training process!\n",
      "-------------------------------------\n",
      "\n",
      " ------------- \n",
      "\n",
      "Time for 200 iterations: 0.49356526931126915 mins\n",
      "Train Loss: 0.7008431553840637\n",
      "Evaluating model on 250 random 20 way one-shot learning tasks ... \n",
      "\n",
      "Got an average of 5.6% 20 way one-shot learning accuracy \n",
      "\n",
      "Current best: 5.6, previous best: -1\n",
      "\n",
      " ------------- \n",
      "\n",
      "Time for 400 iterations: 1.2149581034978232 mins\n",
      "Train Loss: 0.6944068670272827\n",
      "Evaluating model on 250 random 20 way one-shot learning tasks ... \n",
      "\n",
      "Got an average of 3.6% 20 way one-shot learning accuracy \n",
      "\n",
      "\n",
      " ------------- \n",
      "\n",
      "Time for 600 iterations: 1.9713544845581055 mins\n",
      "Train Loss: 0.6933534741401672\n",
      "Evaluating model on 250 random 20 way one-shot learning tasks ... \n",
      "\n",
      "Got an average of 4.4% 20 way one-shot learning accuracy \n",
      "\n"
     ]
    },
    {
     "ename": "KeyboardInterrupt",
     "evalue": "",
     "output_type": "error",
     "traceback": [
      "\u001b[1;31m---------------------------------------------------------------------------\u001b[0m",
      "\u001b[1;31mKeyboardInterrupt\u001b[0m                         Traceback (most recent call last)",
      "\u001b[1;32m~\\AppData\\Local\\Temp/ipykernel_11868/3681733160.py\u001b[0m in \u001b[0;36m<module>\u001b[1;34m\u001b[0m\n\u001b[0;32m      3\u001b[0m \u001b[0mt_start\u001b[0m \u001b[1;33m=\u001b[0m \u001b[0mtime\u001b[0m\u001b[1;33m.\u001b[0m\u001b[0mtime\u001b[0m\u001b[1;33m(\u001b[0m\u001b[1;33m)\u001b[0m\u001b[1;33m\u001b[0m\u001b[1;33m\u001b[0m\u001b[0m\n\u001b[0;32m      4\u001b[0m \u001b[1;32mfor\u001b[0m \u001b[0mi\u001b[0m \u001b[1;32min\u001b[0m \u001b[0mrange\u001b[0m\u001b[1;33m(\u001b[0m\u001b[1;36m1\u001b[0m\u001b[1;33m,\u001b[0m \u001b[0mn_iter\u001b[0m\u001b[1;33m+\u001b[0m\u001b[1;36m1\u001b[0m\u001b[1;33m)\u001b[0m\u001b[1;33m:\u001b[0m\u001b[1;33m\u001b[0m\u001b[1;33m\u001b[0m\u001b[0m\n\u001b[1;32m----> 5\u001b[1;33m     \u001b[1;33m(\u001b[0m\u001b[0minputs\u001b[0m\u001b[1;33m,\u001b[0m\u001b[0mtargets\u001b[0m\u001b[1;33m)\u001b[0m \u001b[1;33m=\u001b[0m \u001b[0mget_batch\u001b[0m\u001b[1;33m(\u001b[0m\u001b[0mbatch_size\u001b[0m\u001b[1;33m)\u001b[0m\u001b[1;33m\u001b[0m\u001b[1;33m\u001b[0m\u001b[0m\n\u001b[0m\u001b[0;32m      6\u001b[0m     \u001b[0mloss\u001b[0m \u001b[1;33m=\u001b[0m \u001b[0mmodel\u001b[0m\u001b[1;33m.\u001b[0m\u001b[0mtrain_on_batch\u001b[0m\u001b[1;33m(\u001b[0m\u001b[0minputs\u001b[0m\u001b[1;33m,\u001b[0m \u001b[0mtargets\u001b[0m\u001b[1;33m)\u001b[0m\u001b[1;33m\u001b[0m\u001b[1;33m\u001b[0m\u001b[0m\n\u001b[0;32m      7\u001b[0m     \u001b[1;32mif\u001b[0m \u001b[0mi\u001b[0m \u001b[1;33m%\u001b[0m \u001b[0mevaluate_every\u001b[0m \u001b[1;33m==\u001b[0m \u001b[1;36m0\u001b[0m\u001b[1;33m:\u001b[0m\u001b[1;33m\u001b[0m\u001b[1;33m\u001b[0m\u001b[0m\n",
      "\u001b[1;32m~\\AppData\\Local\\Temp/ipykernel_11868/1070444357.py\u001b[0m in \u001b[0;36mget_batch\u001b[1;34m(batch_size, s)\u001b[0m\n\u001b[0;32m     23\u001b[0m         \u001b[0mcategory\u001b[0m \u001b[1;33m=\u001b[0m \u001b[0mcategories\u001b[0m\u001b[1;33m[\u001b[0m\u001b[0mi\u001b[0m\u001b[1;33m]\u001b[0m\u001b[1;33m\u001b[0m\u001b[1;33m\u001b[0m\u001b[0m\n\u001b[0;32m     24\u001b[0m         \u001b[0midx_1\u001b[0m \u001b[1;33m=\u001b[0m \u001b[0mrng\u001b[0m\u001b[1;33m.\u001b[0m\u001b[0mrandint\u001b[0m\u001b[1;33m(\u001b[0m\u001b[1;36m0\u001b[0m\u001b[1;33m,\u001b[0m \u001b[0mn_examples\u001b[0m\u001b[1;33m)\u001b[0m\u001b[1;33m\u001b[0m\u001b[1;33m\u001b[0m\u001b[0m\n\u001b[1;32m---> 25\u001b[1;33m         \u001b[0mpairs\u001b[0m\u001b[1;33m[\u001b[0m\u001b[1;36m0\u001b[0m\u001b[1;33m]\u001b[0m\u001b[1;33m[\u001b[0m\u001b[0mi\u001b[0m\u001b[1;33m,\u001b[0m\u001b[1;33m:\u001b[0m\u001b[1;33m,\u001b[0m\u001b[1;33m:\u001b[0m\u001b[1;33m,\u001b[0m\u001b[1;33m:\u001b[0m\u001b[1;33m]\u001b[0m \u001b[1;33m=\u001b[0m \u001b[0mX\u001b[0m\u001b[1;33m[\u001b[0m\u001b[0mcategory\u001b[0m\u001b[1;33m,\u001b[0m \u001b[0midx_1\u001b[0m\u001b[1;33m]\u001b[0m\u001b[1;33m.\u001b[0m\u001b[0mreshape\u001b[0m\u001b[1;33m(\u001b[0m\u001b[0mw\u001b[0m\u001b[1;33m,\u001b[0m \u001b[0mh\u001b[0m\u001b[1;33m,\u001b[0m \u001b[1;36m3\u001b[0m\u001b[1;33m)\u001b[0m\u001b[1;33m\u001b[0m\u001b[1;33m\u001b[0m\u001b[0m\n\u001b[0m\u001b[0;32m     26\u001b[0m         \u001b[0midx_2\u001b[0m \u001b[1;33m=\u001b[0m \u001b[0mrng\u001b[0m\u001b[1;33m.\u001b[0m\u001b[0mrandint\u001b[0m\u001b[1;33m(\u001b[0m\u001b[1;36m0\u001b[0m\u001b[1;33m,\u001b[0m \u001b[0mn_examples\u001b[0m\u001b[1;33m)\u001b[0m\u001b[1;33m\u001b[0m\u001b[1;33m\u001b[0m\u001b[0m\n\u001b[0;32m     27\u001b[0m \u001b[1;33m\u001b[0m\u001b[0m\n",
      "\u001b[1;31mKeyboardInterrupt\u001b[0m: "
     ]
    }
   ],
   "source": [
    "print(\"Starting training process!\")\n",
    "print(\"-------------------------------------\")\n",
    "t_start = time.time()\n",
    "for i in range(1, n_iter+1):\n",
    "    (inputs,targets) = get_batch(batch_size)\n",
    "    loss = model.train_on_batch(inputs, targets)\n",
    "    if i % evaluate_every == 0:\n",
    "        print(\"\\n ------------- \\n\")\n",
    "        print(\"Time for {0} iterations: {1} mins\".format(i, (time.time()-t_start)/60.0))\n",
    "        print(\"Train Loss: {0}\".format(loss)) \n",
    "        val_acc = test_oneshot(model, N_way, n_val, verbose=True)\n",
    "        model.save_weights(os.path.join(model_path, 'weights.{}.h5'.format(i)))\n",
    "        if val_acc >= best:\n",
    "            print(\"Current best: {0}, previous best: {1}\".format(val_acc, best))\n",
    "            best = val_acc"
   ]
  },
  {
   "cell_type": "code",
   "execution_count": null,
   "id": "f86b29a1",
   "metadata": {},
   "outputs": [],
   "source": []
  }
 ],
 "metadata": {
  "kernelspec": {
   "display_name": "Python 3 (ipykernel)",
   "language": "python",
   "name": "python3"
  },
  "language_info": {
   "codemirror_mode": {
    "name": "ipython",
    "version": 3
   },
   "file_extension": ".py",
   "mimetype": "text/x-python",
   "name": "python",
   "nbconvert_exporter": "python",
   "pygments_lexer": "ipython3",
   "version": "3.9.7"
  }
 },
 "nbformat": 4,
 "nbformat_minor": 5
}
